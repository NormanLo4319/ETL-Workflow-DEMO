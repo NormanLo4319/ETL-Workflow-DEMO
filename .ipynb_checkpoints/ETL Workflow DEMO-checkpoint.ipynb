{
 "cells": [
  {
   "cell_type": "markdown",
   "id": "8da99a8e",
   "metadata": {},
   "source": [
    "# ETL Workflow\n",
    "\n",
    "![ETL](https://www.slideteam.net/media/catalog/product/cache/960x720/t/h/three_components_of_etl_process_flow_model_slide01.jpg)\n"
   ]
  },
  {
   "cell_type": "markdown",
   "id": "0a229cd2",
   "metadata": {},
   "source": [
    "## Import Data from Multiple Sources"
   ]
  },
  {
   "cell_type": "code",
   "execution_count": null,
   "id": "1fb72747",
   "metadata": {
    "ExecuteTime": {
     "end_time": "2021-12-20T20:53:51.101371Z",
     "start_time": "2021-12-20T20:53:50.047036Z"
    }
   },
   "outputs": [],
   "source": [
    "# Import Dependencies\n",
    "import pandas as pd\n",
    "import numpy as np\n",
    "from sqlalchemy import create_engine, Column, Integer, String, Float, Text\n",
    "from sqlalchemy.ext.declarative import declarative_base\n",
    "from sqlalchemy.orm import Session"
   ]
  },
  {
   "cell_type": "code",
   "execution_count": null,
   "id": "4295039a",
   "metadata": {
    "ExecuteTime": {
     "end_time": "2021-12-20T23:16:23.388925Z",
     "start_time": "2021-12-20T23:16:21.506176Z"
    }
   },
   "outputs": [],
   "source": [
    "# Importing data from external sources\n",
    "\n",
    "cohort = \"https://docs.google.com/spreadsheets/d/e/2PACX-1vQtiJNdQr8WdkeyQan6vSJBG6hyGikzEQ-MOnU5aBltsyEmGX7fNJAL5eBRM89Tw6DvWkfSAELzLrAP/pub?output=csv\"\n",
    "people = \"https://docs.google.com/spreadsheets/d/e/2PACX-1vSxKxfioMVd06orR0x6BeBWWaj3zbKz-yn78RfmZCfNUwLlqoa-gRu0FeZAYfc4v8_eqZtlSJqSiAdm/pub?output=csv\"\n",
    "\n",
    "cohort_df = pd.read_csv(cohort)\n",
    "people_df = pd.read_csv(people)"
   ]
  },
  {
   "cell_type": "code",
   "execution_count": null,
   "id": "28626174",
   "metadata": {
    "ExecuteTime": {
     "end_time": "2021-12-20T20:56:46.345235Z",
     "start_time": "2021-12-20T20:56:46.330819Z"
    }
   },
   "outputs": [],
   "source": [
    "cohort_df"
   ]
  },
  {
   "cell_type": "code",
   "execution_count": null,
   "id": "83e817da",
   "metadata": {
    "ExecuteTime": {
     "end_time": "2021-12-20T20:56:46.679575Z",
     "start_time": "2021-12-20T20:56:46.670994Z"
    }
   },
   "outputs": [],
   "source": [
    "people_df"
   ]
  },
  {
   "cell_type": "markdown",
   "id": "25502c78",
   "metadata": {
    "ExecuteTime": {
     "end_time": "2021-12-20T21:05:07.872657Z",
     "start_time": "2021-12-20T21:05:07.869503Z"
    }
   },
   "source": [
    "## Extract Useful Data"
   ]
  },
  {
   "cell_type": "code",
   "execution_count": null,
   "id": "685d0eab",
   "metadata": {
    "ExecuteTime": {
     "end_time": "2021-12-20T23:16:29.637581Z",
     "start_time": "2021-12-20T23:16:29.633086Z"
    }
   },
   "outputs": [],
   "source": [
    "# Extract specific columns from people_df\n",
    "people_df = people_df[['X1', 'X2', 'X3', 'X5']]\n",
    "\n",
    "# Rename columns\n",
    "people_df = people_df.rename(index=str, columns={\"X1\":\"name\", \n",
    "                                                \"X2\":\"year\",\n",
    "                                                \"X3\":\"id\",\n",
    "                                                \"X5\":\"position\"})"
   ]
  },
  {
   "cell_type": "code",
   "execution_count": null,
   "id": "3c567cb7",
   "metadata": {
    "ExecuteTime": {
     "end_time": "2021-12-20T23:16:29.970328Z",
     "start_time": "2021-12-20T23:16:29.967190Z"
    }
   },
   "outputs": [],
   "source": [
    "# Rename columns\n",
    "cohort_df = cohort_df.rename(index=str, columns={\"y1\":\"course_id\", \n",
    "                                                \"y2\":\"instructor\",\n",
    "                                                \"y3\":\"lecturer\",\n",
    "                                                \"y4\":\"start_date\",\n",
    "                                                \"y5\":\"class_size\"})"
   ]
  },
  {
   "cell_type": "markdown",
   "id": "4157a7d5",
   "metadata": {},
   "source": [
    "## Data Transformation"
   ]
  },
  {
   "cell_type": "code",
   "execution_count": null,
   "id": "7a0fc601",
   "metadata": {
    "ExecuteTime": {
     "end_time": "2021-12-20T23:16:34.705317Z",
     "start_time": "2021-12-20T23:16:34.695393Z"
    }
   },
   "outputs": [],
   "source": [
    "# Transform course_id into 4 digit code\n",
    "cohort_df['course_id'] = cohort_df['course_id'].astype(str).str.zfill(4)\n",
    "cohort_df.head()"
   ]
  },
  {
   "cell_type": "code",
   "execution_count": null,
   "id": "143a8242",
   "metadata": {
    "ExecuteTime": {
     "end_time": "2021-12-20T22:51:08.940063Z",
     "start_time": "2021-12-20T22:51:08.924403Z"
    }
   },
   "outputs": [],
   "source": [
    "# Transform start_date to datetime object\n",
    "cohort_df['start_date'] = pd.to_datetime(cohort_df['start_date'])\n",
    "cohort_df.head()"
   ]
  },
  {
   "cell_type": "code",
   "execution_count": null,
   "id": "05aefa71",
   "metadata": {
    "ExecuteTime": {
     "end_time": "2021-12-20T23:16:40.276934Z",
     "start_time": "2021-12-20T23:16:40.266836Z"
    }
   },
   "outputs": [],
   "source": [
    "# Create new table with groupby\n",
    "classes_df = cohort_df.groupby(['instructor', 'lecturer']).size().reset_index(name='counts')\n",
    "classes_df.head()"
   ]
  },
  {
   "cell_type": "markdown",
   "id": "c5d8999b",
   "metadata": {},
   "source": [
    "## Load Data into Data Warehouse"
   ]
  },
  {
   "cell_type": "code",
   "execution_count": null,
   "id": "3b3f0517",
   "metadata": {
    "ExecuteTime": {
     "end_time": "2021-12-20T23:19:12.526510Z",
     "start_time": "2021-12-20T23:19:12.524275Z"
    }
   },
   "outputs": [],
   "source": [
    "# Creating SQLite Database\n",
    "Base = declarative_base()"
   ]
  },
  {
   "cell_type": "code",
   "execution_count": null,
   "id": "7819d62f",
   "metadata": {
    "ExecuteTime": {
     "end_time": "2021-12-20T23:19:12.810318Z",
     "start_time": "2021-12-20T23:19:12.805942Z"
    }
   },
   "outputs": [],
   "source": [
    "# Define people table\n",
    "class People(Base):\n",
    "    __tablename__='people'\n",
    "    id = Column(Integer, primary_key=True)\n",
    "    name = Column(String)\n",
    "    year = Column(Text)\n",
    "    idn = Column(Text)\n",
    "    position = Column(String)"
   ]
  },
  {
   "cell_type": "code",
   "execution_count": null,
   "id": "8a399dd8",
   "metadata": {
    "ExecuteTime": {
     "end_time": "2021-12-20T23:19:13.151518Z",
     "start_time": "2021-12-20T23:19:13.147601Z"
    }
   },
   "outputs": [],
   "source": [
    "# Create table\n",
    "Base.metadata.tables"
   ]
  },
  {
   "cell_type": "code",
   "execution_count": null,
   "id": "68e7a047",
   "metadata": {
    "ExecuteTime": {
     "end_time": "2021-12-20T23:19:13.414175Z",
     "start_time": "2021-12-20T23:19:13.411264Z"
    }
   },
   "outputs": [],
   "source": [
    "# Create the database engine\n",
    "engine = create_engine(\"sqlite:///./db/data.sqlite\")"
   ]
  },
  {
   "cell_type": "code",
   "execution_count": null,
   "id": "dbd44176",
   "metadata": {
    "ExecuteTime": {
     "end_time": "2021-12-20T23:19:13.643690Z",
     "start_time": "2021-12-20T23:19:13.638743Z"
    }
   },
   "outputs": [],
   "source": [
    "# This is where the tables was created in the database\n",
    "Base.metadata.create_all(engine)"
   ]
  },
  {
   "cell_type": "code",
   "execution_count": null,
   "id": "ff6a41f0",
   "metadata": {
    "ExecuteTime": {
     "end_time": "2021-12-20T23:19:13.859230Z",
     "start_time": "2021-12-20T23:19:13.857012Z"
    }
   },
   "outputs": [],
   "source": [
    "# The ORM's \"handle\" to the database is the Session\n",
    "session = Session(engine)"
   ]
  },
  {
   "cell_type": "code",
   "execution_count": null,
   "id": "cc612eee",
   "metadata": {
    "ExecuteTime": {
     "end_time": "2021-12-20T23:19:14.058537Z",
     "start_time": "2021-12-20T23:19:14.054479Z"
    }
   },
   "outputs": [],
   "source": [
    "# Adding the data to the session\n",
    "\n",
    "for i in people_df.index:\n",
    "    session.add(People(\n",
    "        name = people_df[\"name\"][i], \n",
    "        year = people_df[\"year\"][i],\n",
    "        idn = people_df[\"id\"][i],\n",
    "        position = people_df[\"position\"][i]\n",
    "    ))"
   ]
  },
  {
   "cell_type": "code",
   "execution_count": null,
   "id": "50b2b8eb",
   "metadata": {
    "ExecuteTime": {
     "end_time": "2021-12-20T23:19:14.267568Z",
     "start_time": "2021-12-20T23:19:14.262291Z"
    }
   },
   "outputs": [],
   "source": [
    "# Data has not been added to the database yet\n",
    "engine.execute(\"SELECT * FROM People\").fetchall()"
   ]
  },
  {
   "cell_type": "code",
   "execution_count": null,
   "id": "f7463f0c",
   "metadata": {
    "ExecuteTime": {
     "end_time": "2021-12-20T23:19:14.508915Z",
     "start_time": "2021-12-20T23:19:14.505642Z"
    }
   },
   "outputs": [],
   "source": [
    "# Use the new attribute to see the queue of data ready to go into the database\n",
    "session.new"
   ]
  },
  {
   "cell_type": "code",
   "execution_count": null,
   "id": "ac374972",
   "metadata": {
    "ExecuteTime": {
     "end_time": "2021-12-20T23:19:14.811489Z",
     "start_time": "2021-12-20T23:19:14.804686Z"
    }
   },
   "outputs": [],
   "source": [
    "# Commit flushes whatever remaining changes remain to the database and commits the transaction\n",
    "session.commit()"
   ]
  },
  {
   "cell_type": "code",
   "execution_count": null,
   "id": "45991254",
   "metadata": {
    "ExecuteTime": {
     "end_time": "2021-12-20T23:19:15.092998Z",
     "start_time": "2021-12-20T23:19:15.089468Z"
    }
   },
   "outputs": [],
   "source": [
    "# Confirm nothing new to add\n",
    "session.new"
   ]
  },
  {
   "cell_type": "code",
   "execution_count": null,
   "id": "f0a470a8",
   "metadata": {
    "ExecuteTime": {
     "end_time": "2021-12-20T23:19:15.394922Z",
     "start_time": "2021-12-20T23:19:15.389563Z"
    }
   },
   "outputs": [],
   "source": [
    "# Query the database to check the data\n",
    "session.query(People.name, People.position).all()"
   ]
  },
  {
   "cell_type": "code",
   "execution_count": null,
   "id": "61e63202",
   "metadata": {
    "ExecuteTime": {
     "end_time": "2021-12-20T23:19:15.715846Z",
     "start_time": "2021-12-20T23:19:15.689308Z"
    }
   },
   "outputs": [],
   "source": [
    "# Define people table\n",
    "class Cohort(Base):\n",
    "    __tablename__='cohort'\n",
    "    id = Column(Integer, primary_key=True)\n",
    "    course_id = Column(Text)\n",
    "    instructor = Column(String)\n",
    "    lecturer = Column(String)\n",
    "    start_date = Column(Text)\n",
    "    class_size = Column(Float)\n",
    "    \n",
    "# Create table\n",
    "Base.metadata.tables\n",
    "\n",
    "# Create the database engine\n",
    "engine = create_engine(\"sqlite:///./db/data.sqlite\")\n",
    "\n",
    "# This is where the tables was created in the database\n",
    "Base.metadata.create_all(engine)\n",
    "\n",
    "# The ORM's \"handle\" to the database is the Session\n",
    "session = Session(engine)\n",
    "\n",
    "# Adding the data to the session\n",
    "for i in cohort_df.index:\n",
    "    session.add(Cohort(\n",
    "        course_id = cohort_df[\"course_id\"][i], \n",
    "        instructor = cohort_df[\"instructor\"][i],\n",
    "        lecturer = cohort_df[\"lecturer\"][i],\n",
    "        start_date = cohort_df[\"start_date\"][i],\n",
    "        class_size = cohort_df[\"class_size\"][i]\n",
    "    ))\n",
    "\n",
    "# Data has not been added to the database yet\n",
    "engine.execute(\"SELECT * FROM Cohort\").fetchall()\n",
    "\n",
    "# Use the new attribute to see the queue of data ready to go into the database\n",
    "session.new\n",
    "\n",
    "# Commit flushes whatever remaining changes remain to the database and commits the transaction\n",
    "session.commit()\n",
    "\n",
    "# Confirm nothing new to add\n",
    "session.new\n",
    "\n",
    "# Query the database to check the data\n",
    "session.query(Cohort.course_id, Cohort.start_date).all()"
   ]
  },
  {
   "cell_type": "code",
   "execution_count": null,
   "id": "b1427a1b",
   "metadata": {
    "ExecuteTime": {
     "end_time": "2021-12-20T23:19:16.123495Z",
     "start_time": "2021-12-20T23:19:16.104394Z"
    }
   },
   "outputs": [],
   "source": [
    "# Define people table\n",
    "class Classes(Base):\n",
    "    __tablename__='classes'\n",
    "    id = Column(Integer, primary_key=True)\n",
    "    instructor = Column(String)\n",
    "    lecturer = Column(String)\n",
    "    count = Column(Float)\n",
    "    \n",
    "# Create table\n",
    "Base.metadata.tables\n",
    "\n",
    "# Create the database engine\n",
    "engine = create_engine(\"sqlite:///./db/data.sqlite\")\n",
    "\n",
    "# This is where the tables was created in the database\n",
    "Base.metadata.create_all(engine)\n",
    "\n",
    "# The ORM's \"handle\" to the database is the Session\n",
    "session = Session(engine)\n",
    "\n",
    "# Adding the data to the session\n",
    "for i in classes_df.index:\n",
    "    session.add(Classes(\n",
    "        instructor = classes_df[\"instructor\"][i],\n",
    "        lecturer = classes_df[\"lecturer\"][i],\n",
    "        count = classes_df[\"counts\"][i]\n",
    "    ))\n",
    "\n",
    "# Data has not been added to the database yet\n",
    "engine.execute(\"SELECT * FROM Classes\").fetchall()\n",
    "\n",
    "# Use the new attribute to see the queue of data ready to go into the database\n",
    "session.new\n",
    "\n",
    "# Commit flushes whatever remaining changes remain to the database and commits the transaction\n",
    "session.commit()\n",
    "\n",
    "# Confirm nothing new to add\n",
    "session.new\n",
    "\n",
    "# Query the database to check the data\n",
    "session.query(Classes.instructor, Classes.lecturer, Classes.count).all()"
   ]
  },
  {
   "cell_type": "markdown",
   "id": "8f569c7e",
   "metadata": {},
   "source": [
    "## Use Data in Database for Analysis"
   ]
  },
  {
   "cell_type": "code",
   "execution_count": null,
   "id": "d19c59ac",
   "metadata": {
    "ExecuteTime": {
     "end_time": "2021-12-21T15:35:14.188172Z",
     "start_time": "2021-12-21T15:35:13.066096Z"
    }
   },
   "outputs": [],
   "source": [
    "# Import dependencies\n",
    "import sqlite3\n",
    "import pandas as pd"
   ]
  },
  {
   "cell_type": "code",
   "execution_count": null,
   "id": "9ac45a92",
   "metadata": {
    "ExecuteTime": {
     "end_time": "2021-12-21T15:46:45.712237Z",
     "start_time": "2021-12-21T15:46:45.709383Z"
    }
   },
   "outputs": [],
   "source": [
    "# Building connection to the database file\n",
    "con = sqlite3.connect('./db/data.sqlite')\n",
    "cursor = con.cursor()"
   ]
  },
  {
   "cell_type": "code",
   "execution_count": null,
   "id": "fd3aacb4",
   "metadata": {
    "ExecuteTime": {
     "end_time": "2021-12-21T15:47:02.532252Z",
     "start_time": "2021-12-21T15:47:02.522691Z"
    }
   },
   "outputs": [],
   "source": [
    "table_query = \\\n",
    "\"\"\"\n",
    "SELECT \n",
    "    name\n",
    "FROM \n",
    "    sqlite_schema\n",
    "WHERE \n",
    "    type ='table' AND \n",
    "    name NOT LIKE 'sqlite_%'\n",
    "\"\"\"\n",
    "\n",
    "cursor.execute(table_query)"
   ]
  },
  {
   "cell_type": "code",
   "execution_count": null,
   "id": "60b3afe0",
   "metadata": {
    "ExecuteTime": {
     "end_time": "2021-12-21T15:47:12.295544Z",
     "start_time": "2021-12-21T15:47:12.293220Z"
    }
   },
   "outputs": [],
   "source": [
    "# Simple query\n",
    "people_query = \\\n",
    "\"\"\"\n",
    "SELECT * \n",
    "FROM People\n",
    "\"\"\""
   ]
  },
  {
   "cell_type": "code",
   "execution_count": null,
   "id": "f7f403b8",
   "metadata": {
    "ExecuteTime": {
     "end_time": "2021-12-21T15:47:13.093356Z",
     "start_time": "2021-12-21T15:47:13.070783Z"
    }
   },
   "outputs": [],
   "source": [
    "# Load into Pandas dataframe\n",
    "people_df = pd.read_sql(people_query, con)\n",
    "people_df.head()"
   ]
  },
  {
   "cell_type": "code",
   "execution_count": null,
   "id": "d6aa315e",
   "metadata": {},
   "outputs": [],
   "source": []
  }
 ],
 "metadata": {
  "hide_input": false,
  "kernelspec": {
   "display_name": "Python 3",
   "language": "python",
   "name": "python3"
  },
  "language_info": {
   "codemirror_mode": {
    "name": "ipython",
    "version": 3
   },
   "file_extension": ".py",
   "mimetype": "text/x-python",
   "name": "python",
   "nbconvert_exporter": "python",
   "pygments_lexer": "ipython3",
   "version": "3.8.2"
  },
  "latex_envs": {
   "LaTeX_envs_menu_present": true,
   "autoclose": false,
   "autocomplete": true,
   "bibliofile": "biblio.bib",
   "cite_by": "apalike",
   "current_citInitial": 1,
   "eqLabelWithNumbers": true,
   "eqNumInitial": 1,
   "hotkeys": {
    "equation": "Ctrl-E",
    "itemize": "Ctrl-I"
   },
   "labels_anchors": false,
   "latex_user_defs": false,
   "report_style_numbering": false,
   "user_envs_cfg": false
  },
  "nbTranslate": {
   "displayLangs": [
    "*"
   ],
   "hotkey": "alt-t",
   "langInMainMenu": true,
   "sourceLang": "en",
   "targetLang": "fr",
   "useGoogleTranslate": true
  },
  "toc": {
   "base_numbering": 1,
   "nav_menu": {},
   "number_sections": true,
   "sideBar": true,
   "skip_h1_title": false,
   "title_cell": "Table of Contents",
   "title_sidebar": "Contents",
   "toc_cell": false,
   "toc_position": {},
   "toc_section_display": true,
   "toc_window_display": false
  }
 },
 "nbformat": 4,
 "nbformat_minor": 5
}
