{
 "cells": [
  {
   "cell_type": "markdown",
   "id": "8da99a8e",
   "metadata": {},
   "source": [
    "# ETL Workflow\n",
    "\n",
    "![ETL](https://www.slideteam.net/media/catalog/product/cache/960x720/t/h/three_components_of_etl_process_flow_model_slide01.jpg)\n"
   ]
  },
  {
   "cell_type": "markdown",
   "id": "0a229cd2",
   "metadata": {},
   "source": [
    "## Import Data from Multiple Sources"
   ]
  },
  {
   "cell_type": "code",
   "execution_count": null,
   "id": "1fb72747",
   "metadata": {
    "ExecuteTime": {
     "end_time": "2021-12-21T20:34:16.859971Z",
     "start_time": "2021-12-21T20:34:16.210017Z"
    }
   },
   "outputs": [],
   "source": [
    "# Import Dependencies\n",
    "import pandas as pd\n",
    "import numpy as np\n",
    "from sqlalchemy import create_engine, Column, Integer, String, Float, Text\n",
    "from sqlalchemy.ext.declarative import declarative_base\n",
    "from sqlalchemy.orm import Session"
   ]
  },
  {
   "cell_type": "code",
   "execution_count": null,
   "id": "4295039a",
   "metadata": {
    "ExecuteTime": {
     "end_time": "2021-12-21T20:34:50.999986Z",
     "start_time": "2021-12-21T20:34:49.781896Z"
    }
   },
   "outputs": [],
   "source": [
    "# Importing data from external sources\n",
    "\n",
    "cohort = \"https://docs.google.com/spreadsheets/d/e/2PACX-1vQtiJNdQr8WdkeyQan6vSJBG6hyGikzEQ-MOnU5aBltsyEmGX7fNJAL5eBRM89Tw6DvWkfSAELzLrAP/pub?output=csv\"\n",
    "people = \"https://docs.google.com/spreadsheets/d/e/2PACX-1vSxKxfioMVd06orR0x6BeBWWaj3zbKz-yn78RfmZCfNUwLlqoa-gRu0FeZAYfc4v8_eqZtlSJqSiAdm/pub?output=csv\"\n",
    "\n",
    "cohort_df = pd.read_csv(cohort)\n",
    "people_df = pd.read_csv(people)"
   ]
  },
  {
   "cell_type": "code",
   "execution_count": null,
   "id": "28626174",
   "metadata": {
    "ExecuteTime": {
     "end_time": "2021-12-21T20:34:51.017211Z",
     "start_time": "2021-12-21T20:34:51.002530Z"
    }
   },
   "outputs": [],
   "source": [
    "cohort_df"
   ]
  },
  {
   "cell_type": "code",
   "execution_count": null,
   "id": "83e817da",
   "metadata": {
    "ExecuteTime": {
     "end_time": "2021-12-21T20:34:51.028368Z",
     "start_time": "2021-12-21T20:34:51.019437Z"
    }
   },
   "outputs": [],
   "source": [
    "people_df.head()"
   ]
  },
  {
   "cell_type": "markdown",
   "id": "25502c78",
   "metadata": {
    "ExecuteTime": {
     "end_time": "2021-12-20T21:05:07.872657Z",
     "start_time": "2021-12-20T21:05:07.869503Z"
    }
   },
   "source": [
    "## Extract Useful Data"
   ]
  },
  {
   "cell_type": "code",
   "execution_count": null,
   "id": "685d0eab",
   "metadata": {
    "ExecuteTime": {
     "end_time": "2021-12-21T20:35:00.667607Z",
     "start_time": "2021-12-21T20:35:00.663335Z"
    }
   },
   "outputs": [],
   "source": [
    "# Extract specific columns from people_df\n",
    "people_df = people_df[['X1', 'X2', 'X3', 'X5']]\n",
    "\n",
    "# Rename columns\n",
    "people_df = people_df.rename(index=str, columns={\"X1\":\"name\", \n",
    "                                                \"X2\":\"year\",\n",
    "                                                \"X3\":\"id\",\n",
    "                                                \"X5\":\"position\"})"
   ]
  },
  {
   "cell_type": "code",
   "execution_count": null,
   "id": "3c567cb7",
   "metadata": {
    "ExecuteTime": {
     "end_time": "2021-12-21T20:35:03.602934Z",
     "start_time": "2021-12-21T20:35:03.599583Z"
    }
   },
   "outputs": [],
   "source": [
    "# Rename columns\n",
    "cohort_df = cohort_df.rename(index=str, columns={\"y1\":\"course_id\", \n",
    "                                                \"y2\":\"instructor\",\n",
    "                                                \"y3\":\"lecturer\",\n",
    "                                                \"y4\":\"start_date\",\n",
    "                                                \"y5\":\"class_size\"})"
   ]
  },
  {
   "cell_type": "markdown",
   "id": "4157a7d5",
   "metadata": {},
   "source": [
    "## Data Transformation"
   ]
  },
  {
   "cell_type": "code",
   "execution_count": null,
   "id": "7a0fc601",
   "metadata": {
    "ExecuteTime": {
     "end_time": "2021-12-21T20:35:06.551907Z",
     "start_time": "2021-12-21T20:35:06.541991Z"
    }
   },
   "outputs": [],
   "source": [
    "# Transform course_id into 4 digit code\n",
    "cohort_df['course_id'] = cohort_df['course_id'].astype(str).str.zfill(4)\n",
    "cohort_df.head()"
   ]
  },
  {
   "cell_type": "code",
   "execution_count": null,
   "id": "143a8242",
   "metadata": {
    "ExecuteTime": {
     "end_time": "2021-12-21T20:36:06.086849Z",
     "start_time": "2021-12-21T20:36:06.080666Z"
    }
   },
   "outputs": [],
   "source": [
    "# Transform year and id into string object\n",
    "people_df['year'] = people_df['year'].apply(str)\n",
    "people_df['id'] = people_df['id'].apply(str)\n",
    "people_df.dtypes"
   ]
  },
  {
   "cell_type": "code",
   "execution_count": null,
   "id": "05aefa71",
   "metadata": {
    "ExecuteTime": {
     "end_time": "2021-12-21T20:36:19.395013Z",
     "start_time": "2021-12-21T20:36:19.384746Z"
    }
   },
   "outputs": [],
   "source": [
    "# Create new table with groupby\n",
    "classes_df = cohort_df.groupby(['instructor', 'lecturer']).size().reset_index(name='counts')\n",
    "classes_df.head()"
   ]
  },
  {
   "cell_type": "markdown",
   "id": "c5d8999b",
   "metadata": {},
   "source": [
    "## Load Data into Data Warehouse"
   ]
  },
  {
   "cell_type": "code",
   "execution_count": null,
   "id": "3b3f0517",
   "metadata": {
    "ExecuteTime": {
     "end_time": "2021-12-21T20:36:20.904546Z",
     "start_time": "2021-12-21T20:36:20.901901Z"
    }
   },
   "outputs": [],
   "source": [
    "# Creating SQLite Database\n",
    "Base = declarative_base()"
   ]
  },
  {
   "cell_type": "code",
   "execution_count": null,
   "id": "7819d62f",
   "metadata": {
    "ExecuteTime": {
     "end_time": "2021-12-21T20:36:21.529255Z",
     "start_time": "2021-12-21T20:36:21.524866Z"
    }
   },
   "outputs": [],
   "source": [
    "# Define people table\n",
    "class People(Base):\n",
    "    __tablename__='people'\n",
    "    id = Column(Integer, primary_key=True)\n",
    "    name = Column(String)\n",
    "    year = Column(String)\n",
    "    idn = Column(String)\n",
    "    position = Column(String)"
   ]
  },
  {
   "cell_type": "code",
   "execution_count": null,
   "id": "8a399dd8",
   "metadata": {
    "ExecuteTime": {
     "end_time": "2021-12-21T20:36:22.056755Z",
     "start_time": "2021-12-21T20:36:22.053185Z"
    }
   },
   "outputs": [],
   "source": [
    "# Create table\n",
    "Base.metadata.tables"
   ]
  },
  {
   "cell_type": "code",
   "execution_count": null,
   "id": "68e7a047",
   "metadata": {
    "ExecuteTime": {
     "end_time": "2021-12-21T20:36:22.627466Z",
     "start_time": "2021-12-21T20:36:22.616296Z"
    }
   },
   "outputs": [],
   "source": [
    "# Create the database engine\n",
    "engine = create_engine(\"sqlite:///./db/data.sqlite\")"
   ]
  },
  {
   "cell_type": "code",
   "execution_count": null,
   "id": "dbd44176",
   "metadata": {
    "ExecuteTime": {
     "end_time": "2021-12-21T20:36:23.138413Z",
     "start_time": "2021-12-21T20:36:23.132448Z"
    }
   },
   "outputs": [],
   "source": [
    "# This is where the tables was created in the database\n",
    "Base.metadata.create_all(engine)"
   ]
  },
  {
   "cell_type": "code",
   "execution_count": null,
   "id": "ff6a41f0",
   "metadata": {
    "ExecuteTime": {
     "end_time": "2021-12-21T20:36:23.605235Z",
     "start_time": "2021-12-21T20:36:23.602690Z"
    }
   },
   "outputs": [],
   "source": [
    "# The ORM's \"handle\" to the database is the Session\n",
    "session = Session(engine)"
   ]
  },
  {
   "cell_type": "code",
   "execution_count": null,
   "id": "cc612eee",
   "metadata": {
    "ExecuteTime": {
     "end_time": "2021-12-21T20:36:24.083674Z",
     "start_time": "2021-12-21T20:36:24.078756Z"
    }
   },
   "outputs": [],
   "source": [
    "# Adding the data to the session\n",
    "\n",
    "for i in people_df.index:\n",
    "    session.add(People(\n",
    "        name = people_df[\"name\"][i], \n",
    "        year = people_df[\"year\"][i],\n",
    "        idn = people_df[\"id\"][i],\n",
    "        position = people_df[\"position\"][i]\n",
    "    ))"
   ]
  },
  {
   "cell_type": "code",
   "execution_count": null,
   "id": "50b2b8eb",
   "metadata": {
    "ExecuteTime": {
     "end_time": "2021-12-21T20:36:24.656895Z",
     "start_time": "2021-12-21T20:36:24.651850Z"
    }
   },
   "outputs": [],
   "source": [
    "# Data has not been added to the database yet\n",
    "engine.execute(\"SELECT * FROM People\").fetchall()"
   ]
  },
  {
   "cell_type": "code",
   "execution_count": null,
   "id": "f7463f0c",
   "metadata": {
    "ExecuteTime": {
     "end_time": "2021-12-21T20:36:25.687922Z",
     "start_time": "2021-12-21T20:36:25.684443Z"
    }
   },
   "outputs": [],
   "source": [
    "# Use the new attribute to see the queue of data ready to go into the database\n",
    "session.new"
   ]
  },
  {
   "cell_type": "code",
   "execution_count": null,
   "id": "ac374972",
   "metadata": {
    "ExecuteTime": {
     "end_time": "2021-12-21T20:36:26.264221Z",
     "start_time": "2021-12-21T20:36:26.257382Z"
    }
   },
   "outputs": [],
   "source": [
    "# Commit flushes whatever remaining changes remain to the database and commits the transaction\n",
    "session.commit()"
   ]
  },
  {
   "cell_type": "code",
   "execution_count": null,
   "id": "45991254",
   "metadata": {
    "ExecuteTime": {
     "end_time": "2021-12-21T20:36:26.801823Z",
     "start_time": "2021-12-21T20:36:26.798342Z"
    }
   },
   "outputs": [],
   "source": [
    "# Confirm nothing new to add\n",
    "session.new"
   ]
  },
  {
   "cell_type": "code",
   "execution_count": null,
   "id": "f0a470a8",
   "metadata": {
    "ExecuteTime": {
     "end_time": "2021-12-21T20:36:27.392195Z",
     "start_time": "2021-12-21T20:36:27.385727Z"
    }
   },
   "outputs": [],
   "source": [
    "# Query the database to check the data\n",
    "session.query(People.year, People.idn).all()"
   ]
  },
  {
   "cell_type": "code",
   "execution_count": null,
   "id": "61e63202",
   "metadata": {
    "ExecuteTime": {
     "end_time": "2021-12-21T20:36:29.826327Z",
     "start_time": "2021-12-21T20:36:29.797911Z"
    }
   },
   "outputs": [],
   "source": [
    "# Define people table\n",
    "class Cohort(Base):\n",
    "    __tablename__='cohort'\n",
    "    id = Column(Integer, primary_key=True)\n",
    "    course_id = Column(String)\n",
    "    instructor = Column(String)\n",
    "    lecturer = Column(String)\n",
    "    start_date = Column(String)\n",
    "    class_size = Column(Float)\n",
    "    \n",
    "# Create table\n",
    "Base.metadata.tables\n",
    "\n",
    "# Create the database engine\n",
    "engine = create_engine(\"sqlite:///./db/data.sqlite\")\n",
    "\n",
    "# This is where the tables was created in the database\n",
    "Base.metadata.create_all(engine)\n",
    "\n",
    "# The ORM's \"handle\" to the database is the Session\n",
    "session = Session(engine)\n",
    "\n",
    "# Adding the data to the session\n",
    "for i in cohort_df.index:\n",
    "    session.add(Cohort(\n",
    "        course_id = cohort_df[\"course_id\"][i], \n",
    "        instructor = cohort_df[\"instructor\"][i],\n",
    "        lecturer = cohort_df[\"lecturer\"][i],\n",
    "        start_date = cohort_df[\"start_date\"][i],\n",
    "        class_size = cohort_df[\"class_size\"][i]\n",
    "    ))\n",
    "\n",
    "# Data has not been added to the database yet\n",
    "engine.execute(\"SELECT * FROM Cohort\").fetchall()\n",
    "\n",
    "# Use the new attribute to see the queue of data ready to go into the database\n",
    "session.new\n",
    "\n",
    "# Commit flushes whatever remaining changes remain to the database and commits the transaction\n",
    "session.commit()\n",
    "\n",
    "# Confirm nothing new to add\n",
    "session.new\n",
    "\n",
    "# Query the database to check the data\n",
    "session.query(Cohort.course_id, Cohort.start_date).all()"
   ]
  },
  {
   "cell_type": "code",
   "execution_count": null,
   "id": "b1427a1b",
   "metadata": {
    "ExecuteTime": {
     "end_time": "2021-12-21T20:36:30.281071Z",
     "start_time": "2021-12-21T20:36:30.261885Z"
    }
   },
   "outputs": [],
   "source": [
    "# Define people table\n",
    "class Classes(Base):\n",
    "    __tablename__='classes'\n",
    "    id = Column(Integer, primary_key=True)\n",
    "    instructor = Column(String)\n",
    "    lecturer = Column(String)\n",
    "    count = Column(Float)\n",
    "    \n",
    "# Create table\n",
    "Base.metadata.tables\n",
    "\n",
    "# Create the database engine\n",
    "engine = create_engine(\"sqlite:///./db/data.sqlite\")\n",
    "\n",
    "# This is where the tables was created in the database\n",
    "Base.metadata.create_all(engine)\n",
    "\n",
    "# The ORM's \"handle\" to the database is the Session\n",
    "session = Session(engine)\n",
    "\n",
    "# Adding the data to the session\n",
    "for i in classes_df.index:\n",
    "    session.add(Classes(\n",
    "        instructor = classes_df[\"instructor\"][i],\n",
    "        lecturer = classes_df[\"lecturer\"][i],\n",
    "        count = classes_df[\"counts\"][i]\n",
    "    ))\n",
    "\n",
    "# Data has not been added to the database yet\n",
    "engine.execute(\"SELECT * FROM Classes\").fetchall()\n",
    "\n",
    "# Use the new attribute to see the queue of data ready to go into the database\n",
    "session.new\n",
    "\n",
    "# Commit flushes whatever remaining changes remain to the database and commits the transaction\n",
    "session.commit()\n",
    "\n",
    "# Confirm nothing new to add\n",
    "session.new\n",
    "\n",
    "# Query the database to check the data\n",
    "session.query(Classes.instructor, Classes.lecturer, Classes.count).all()"
   ]
  },
  {
   "cell_type": "markdown",
   "id": "8f569c7e",
   "metadata": {},
   "source": [
    "## Use Data in Database for Analysis"
   ]
  },
  {
   "cell_type": "code",
   "execution_count": null,
   "id": "d19c59ac",
   "metadata": {
    "ExecuteTime": {
     "end_time": "2021-12-21T20:36:31.246020Z",
     "start_time": "2021-12-21T20:36:31.243718Z"
    }
   },
   "outputs": [],
   "source": [
    "# Import dependencies\n",
    "import sqlite3\n",
    "import pandas as pd"
   ]
  },
  {
   "cell_type": "code",
   "execution_count": null,
   "id": "9ac45a92",
   "metadata": {
    "ExecuteTime": {
     "end_time": "2021-12-21T20:36:31.792253Z",
     "start_time": "2021-12-21T20:36:31.789399Z"
    }
   },
   "outputs": [],
   "source": [
    "# Building connection to the database file\n",
    "con = sqlite3.connect('./db/data.sqlite')\n",
    "cursor = con.cursor()"
   ]
  },
  {
   "cell_type": "code",
   "execution_count": null,
   "id": "fd3aacb4",
   "metadata": {
    "ExecuteTime": {
     "end_time": "2021-12-21T20:36:32.218544Z",
     "start_time": "2021-12-21T20:36:32.211622Z"
    }
   },
   "outputs": [],
   "source": [
    "# Getting the tables from sqlite db\n",
    "table_query = \\\n",
    "\"\"\"\n",
    "SELECT \n",
    "    name\n",
    "FROM \n",
    "    sqlite_schema\n",
    "WHERE \n",
    "    type ='table' AND \n",
    "    name NOT LIKE 'sqlite_%'\n",
    "\"\"\"\n",
    "\n",
    "pd.read_sql(table_query, con)"
   ]
  },
  {
   "cell_type": "code",
   "execution_count": null,
   "id": "60b3afe0",
   "metadata": {
    "ExecuteTime": {
     "end_time": "2021-12-21T20:36:32.698660Z",
     "start_time": "2021-12-21T20:36:32.696385Z"
    }
   },
   "outputs": [],
   "source": [
    "# Simple query\n",
    "people_query = \\\n",
    "\"\"\"\n",
    "SELECT * \n",
    "FROM People\n",
    "\"\"\""
   ]
  },
  {
   "cell_type": "code",
   "execution_count": null,
   "id": "f7f403b8",
   "metadata": {
    "ExecuteTime": {
     "end_time": "2021-12-21T20:36:33.154547Z",
     "start_time": "2021-12-21T20:36:33.143611Z"
    }
   },
   "outputs": [],
   "source": [
    "# Load into Pandas dataframe\n",
    "people_df = pd.read_sql(people_query, con)\n",
    "people_df.head()"
   ]
  },
  {
   "cell_type": "code",
   "execution_count": null,
   "id": "4902d77a",
   "metadata": {
    "ExecuteTime": {
     "end_time": "2021-12-21T20:36:33.637640Z",
     "start_time": "2021-12-21T20:36:33.635484Z"
    }
   },
   "outputs": [],
   "source": [
    "# Simple query\n",
    "cohort_query = \\\n",
    "\"\"\"\n",
    "SELECT *\n",
    "FROM Cohort\n",
    "\"\"\""
   ]
  },
  {
   "cell_type": "code",
   "execution_count": null,
   "id": "d6aa315e",
   "metadata": {
    "ExecuteTime": {
     "end_time": "2021-12-21T20:36:34.118595Z",
     "start_time": "2021-12-21T20:36:34.100989Z"
    }
   },
   "outputs": [],
   "source": [
    "# Transform start_date to datetime object\n",
    "cohort_df = pd.read_sql(cohort_query, con)\n",
    "cohort_df['start_date'] = pd.to_datetime(cohort_df['start_date'])\n",
    "cohort_df.head()"
   ]
  },
  {
   "cell_type": "code",
   "execution_count": null,
   "id": "19c14682",
   "metadata": {},
   "outputs": [],
   "source": []
  }
 ],
 "metadata": {
  "hide_input": false,
  "kernelspec": {
   "display_name": "Python 3",
   "language": "python",
   "name": "python3"
  },
  "language_info": {
   "codemirror_mode": {
    "name": "ipython",
    "version": 3
   },
   "file_extension": ".py",
   "mimetype": "text/x-python",
   "name": "python",
   "nbconvert_exporter": "python",
   "pygments_lexer": "ipython3",
   "version": "3.8.2"
  },
  "latex_envs": {
   "LaTeX_envs_menu_present": true,
   "autoclose": false,
   "autocomplete": true,
   "bibliofile": "biblio.bib",
   "cite_by": "apalike",
   "current_citInitial": 1,
   "eqLabelWithNumbers": true,
   "eqNumInitial": 1,
   "hotkeys": {
    "equation": "Ctrl-E",
    "itemize": "Ctrl-I"
   },
   "labels_anchors": false,
   "latex_user_defs": false,
   "report_style_numbering": false,
   "user_envs_cfg": false
  },
  "nbTranslate": {
   "displayLangs": [
    "*"
   ],
   "hotkey": "alt-t",
   "langInMainMenu": true,
   "sourceLang": "en",
   "targetLang": "fr",
   "useGoogleTranslate": true
  },
  "toc": {
   "base_numbering": 1,
   "nav_menu": {},
   "number_sections": true,
   "sideBar": true,
   "skip_h1_title": false,
   "title_cell": "Table of Contents",
   "title_sidebar": "Contents",
   "toc_cell": false,
   "toc_position": {},
   "toc_section_display": true,
   "toc_window_display": false
  }
 },
 "nbformat": 4,
 "nbformat_minor": 5
}
